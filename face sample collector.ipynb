{
 "cells": [
  {
   "cell_type": "markdown",
   "metadata": {},
   "source": [
    "# Face Sample Collector"
   ]
  },
  {
   "cell_type": "code",
   "execution_count": 1,
   "metadata": {},
   "outputs": [],
   "source": [
    "import cv2\n",
    "import os"
   ]
  },
  {
   "cell_type": "code",
   "execution_count": 2,
   "metadata": {},
   "outputs": [],
   "source": [
    "\n",
    "face_class = cv2.CascadeClassifier('haarcascade_frontalface_default.xml')"
   ]
  },
  {
   "cell_type": "markdown",
   "metadata": {},
   "source": [
    "###  Function for extracting face from image"
   ]
  },
  {
   "cell_type": "code",
   "execution_count": 3,
   "metadata": {},
   "outputs": [],
   "source": [
    "def face_extractor ( photo ) :   \n",
    "    gphoto = cv2.cvtColor(photo,cv2.COLOR_BGR2GRAY)\n",
    "    detected = face_class.detectMultiScale(gphoto)\n",
    "    \n",
    "    if detected == ():\n",
    "        return None \n",
    "    else :\n",
    "        ( x , y , w , h ) = detected[0]\n",
    "        cphoto = photo [ y:y+h , x:x+w ]\n",
    "        return cphoto\n",
    "        "
   ]
  },
  {
   "cell_type": "markdown",
   "metadata": {},
   "source": [
    "###  Input name of the person"
   ]
  },
  {
   "cell_type": "code",
   "execution_count": 4,
   "metadata": {},
   "outputs": [
    {
     "name": "stdout",
     "output_type": "stream",
     "text": [
      "Enter your name here : sudam\n"
     ]
    }
   ],
   "source": [
    "name = input(\"Enter your name here : \")"
   ]
  },
  {
   "cell_type": "markdown",
   "metadata": {},
   "source": [
    "###  Creation of folder to store images"
   ]
  },
  {
   "cell_type": "code",
   "execution_count": 5,
   "metadata": {},
   "outputs": [],
   "source": [
    "directory = name\n",
    "parent_dir = \"C://Users//ajink//Projects//MLOps Projects//Face Detection using VGG16//Dataset//train//\"\n",
    "path = os.path.join(parent_dir, directory) \n",
    "os.mkdir(path) \n",
    "parent_dir = \"C://Users//ajink//Projects//MLOps Projects//Face Detection using VGG16//Dataset//test//\"\n",
    "path = os.path.join(parent_dir, directory) \n",
    "os.mkdir(path)"
   ]
  },
  {
   "cell_type": "markdown",
   "metadata": {},
   "source": [
    "###  Face sample collection for training set."
   ]
  },
  {
   "cell_type": "code",
   "execution_count": 6,
   "metadata": {},
   "outputs": [
    {
     "name": "stderr",
     "output_type": "stream",
     "text": [
      "C:\\Users\\ajink\\.conda\\envs\\mlops\\lib\\site-packages\\ipykernel_launcher.py:5: DeprecationWarning: elementwise comparison failed; this will raise an error in the future.\n",
      "  \"\"\"\n"
     ]
    }
   ],
   "source": [
    "cap = cv2.VideoCapture(0)\n",
    "i=0\n",
    "while True :\n",
    "    \n",
    "    status, photo = cap.read()\n",
    "    \n",
    "    if face_extractor (photo) is not None :\n",
    "        cphoto = face_extractor (photo)\n",
    "        i=int(i)+1\n",
    "        face = cv2.resize( cphoto , (200,200))\n",
    "        face = cv2.cvtColor(face, cv2.COLOR_BGR2GRAY)\n",
    "        \n",
    "        cv2.imwrite(\"C://Users//ajink//Projects//MLOps Projects//Face Detection using VGG16//Dataset//train//\"+name+\"//\"+name+str(i)+\".jpg\" , face)\n",
    "\n",
    "        cv2.putText(face , str(i) , (100, 100) ,cv2.FONT_HERSHEY_SIMPLEX, 2 , [255,0,0],3)\n",
    "        cv2.putText(face , \"train set\" , (0, 30) ,cv2.FONT_HERSHEY_SIMPLEX, 0.7 , [255,0,0],3)\n",
    "        cv2.imshow(\"Face cropper\",face)\n",
    "        \n",
    "    else:\n",
    "        print(\"Face not found\")\n",
    "        pass\n",
    "    \n",
    "    if cv2.waitKey(1) == 13 or i == 70: #13 is the Enter Key\n",
    "        break\n",
    "        \n",
    "cap.release()       \n",
    "cv2.destroyAllWindows()"
   ]
  },
  {
   "cell_type": "markdown",
   "metadata": {},
   "source": [
    "### Face sample collection for training set."
   ]
  },
  {
   "cell_type": "code",
   "execution_count": 7,
   "metadata": {},
   "outputs": [
    {
     "name": "stdout",
     "output_type": "stream",
     "text": [
      "Face not found\n"
     ]
    },
    {
     "name": "stderr",
     "output_type": "stream",
     "text": [
      "C:\\Users\\ajink\\.conda\\envs\\mlops\\lib\\site-packages\\ipykernel_launcher.py:5: DeprecationWarning: elementwise comparison failed; this will raise an error in the future.\n",
      "  \"\"\"\n"
     ]
    },
    {
     "name": "stdout",
     "output_type": "stream",
     "text": [
      "Sample Collection Completed\n"
     ]
    }
   ],
   "source": [
    "cap = cv2.VideoCapture(0)\n",
    "i=0\n",
    "while True :\n",
    "    \n",
    "    status, photo = cap.read()\n",
    "    \n",
    "    if face_extractor (photo) is not None :\n",
    "        cphoto = face_extractor (photo)\n",
    "        i=int(i)+1\n",
    "        face = cv2.resize( cphoto , (200,200))\n",
    "        face = cv2.cvtColor(face, cv2.COLOR_BGR2GRAY)\n",
    "        \n",
    "        cv2.imwrite(\"C://Users//ajink//Projects//MLOps Projects//Face Detection using VGG16//Dataset//test//\"+name+\"//\"+name+str(i)+\".jpg\" , face)\n",
    "\n",
    "        cv2.putText(face , str(i) , (100, 100) ,cv2.FONT_HERSHEY_SIMPLEX, 2 , [255,0,0],3)\n",
    "        cv2.putText(face , \"test set\" , (0, 30) ,cv2.FONT_HERSHEY_SIMPLEX, 0.7 , [255,0,0],3)\n",
    "        cv2.imshow(\"Face cropper\",face)\n",
    "        \n",
    "    else:\n",
    "        print(\"Face not found\")\n",
    "        pass\n",
    "    \n",
    "    if cv2.waitKey(1) == 13 or i == 30: #13 is the Enter Key\n",
    "        break\n",
    "        \n",
    "cap.release()       \n",
    "cv2.destroyAllWindows()\n",
    "\n",
    "print(\"Sample Collection Completed\")"
   ]
  },
  {
   "cell_type": "code",
   "execution_count": null,
   "metadata": {},
   "outputs": [],
   "source": []
  }
 ],
 "metadata": {
  "kernelspec": {
   "display_name": "Python 3",
   "language": "python",
   "name": "python3"
  },
  "language_info": {
   "codemirror_mode": {
    "name": "ipython",
    "version": 3
   },
   "file_extension": ".py",
   "mimetype": "text/x-python",
   "name": "python",
   "nbconvert_exporter": "python",
   "pygments_lexer": "ipython3",
   "version": "3.7.7"
  }
 },
 "nbformat": 4,
 "nbformat_minor": 2
}
